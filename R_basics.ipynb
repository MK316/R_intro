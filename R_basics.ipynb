{
  "nbformat": 4,
  "nbformat_minor": 0,
  "metadata": {
    "colab": {
      "name": "R_basics.ipynb",
      "provenance": [],
      "authorship_tag": "ABX9TyMlhA9e4aHvvCMiVqslS42V",
      "include_colab_link": true
    },
    "kernelspec": {
      "name": "ir",
      "display_name": "R"
    },
    "language_info": {
      "name": "R"
    }
  },
  "cells": [
    {
      "cell_type": "markdown",
      "metadata": {
        "id": "view-in-github",
        "colab_type": "text"
      },
      "source": [
        "<a href=\"https://colab.research.google.com/github/MK316/R_intro/blob/main/R_basics.ipynb\" target=\"_parent\"><img src=\"https://colab.research.google.com/assets/colab-badge.svg\" alt=\"Open In Colab\"/></a>"
      ]
    },
    {
      "cell_type": "markdown",
      "source": [
        "# **R language for statsitics and data visualization**\n",
        "\n",
        "\"R is one of the most commonly used programming languages in **data mining** and offers great packages and resources for **data analysis, visualization, and data science.**\" [source from](https://www.datacamp.com/learn/r?utm_source=adwords_ppc&utm_medium=cpc&utm_campaignid=1457170719&utm_adgroupid=59514459074&utm_device=c&utm_keyword=introduction%20to%20r&utm_matchtype=e&utm_network=g&utm_adpostion=&utm_creative=591544881102&utm_targetid=aud-392016246653:kwd-299434552293&utm_loc_interest_ms=&utm_loc_physical_ms=1009841&gclid=CjwKCAjw77WVBhBuEiwAJ-YoJDHSglDSFDpLV4On-88jU6llzMeTUrVXLI5C8PEOjGb1Kfm2_5LR5hoCbVYQAvD_BwE)"
      ],
      "metadata": {
        "id": "N1wVbWQDYRFf"
      }
    },
    {
      "cell_type": "code",
      "execution_count": null,
      "metadata": {
        "id": "hfrZgTGJWSOK"
      },
      "outputs": [],
      "source": [
        "# Creating a Graph\n",
        "attach(mtcars)\n",
        "par(mfrow=c(2,2))\n",
        "plot(wt, mpg)\n",
        "abline(lm(mpg~wt))\n",
        "title(\"Regression of MPG on Weight\")"
      ]
    },
    {
      "cell_type": "code",
      "source": [
        "rnorm2 <- function(n,mean,sd) { mean+sd*scale(rnorm(n)) }\n",
        "r1 <- round(rnorm2(100,67,9))\n",
        "r2 <- round(rnorm2(100, 72,12))\n",
        "r3 <- round(rnorm2(100, 58, 5))\n",
        "\n",
        "d1 = data.frame(Reading = r1, Grammar = r2, Speaking = r3)\n",
        "head(data); tail(data)"
      ],
      "metadata": {
        "colab": {
          "base_uri": "https://localhost:8080/",
          "height": 555
        },
        "id": "ieoltIYNt_0g",
        "outputId": "fd1062c2-5b59-43a7-d52e-ffd944c3bad3"
      },
      "execution_count": 37,
      "outputs": [
        {
          "output_type": "display_data",
          "data": {
            "text/html": [
              "<table class=\"dataframe\">\n",
              "<caption>A data.frame: 6 × 3</caption>\n",
              "<thead>\n",
              "\t<tr><th></th><th scope=col>Reading</th><th scope=col>Grammar</th><th scope=col>Speaking</th></tr>\n",
              "\t<tr><th></th><th scope=col>&lt;dbl&gt;</th><th scope=col>&lt;dbl&gt;</th><th scope=col>&lt;dbl&gt;</th></tr>\n",
              "</thead>\n",
              "<tbody>\n",
              "\t<tr><th scope=row>1</th><td>66</td><td>78</td><td>55</td></tr>\n",
              "\t<tr><th scope=row>2</th><td>60</td><td>78</td><td>50</td></tr>\n",
              "\t<tr><th scope=row>3</th><td>53</td><td>69</td><td>59</td></tr>\n",
              "\t<tr><th scope=row>4</th><td>67</td><td>65</td><td>65</td></tr>\n",
              "\t<tr><th scope=row>5</th><td>65</td><td>63</td><td>48</td></tr>\n",
              "\t<tr><th scope=row>6</th><td>49</td><td>78</td><td>50</td></tr>\n",
              "</tbody>\n",
              "</table>\n"
            ],
            "text/markdown": "\nA data.frame: 6 × 3\n\n| <!--/--> | Reading &lt;dbl&gt; | Grammar &lt;dbl&gt; | Speaking &lt;dbl&gt; |\n|---|---|---|---|\n| 1 | 66 | 78 | 55 |\n| 2 | 60 | 78 | 50 |\n| 3 | 53 | 69 | 59 |\n| 4 | 67 | 65 | 65 |\n| 5 | 65 | 63 | 48 |\n| 6 | 49 | 78 | 50 |\n\n",
            "text/latex": "A data.frame: 6 × 3\n\\begin{tabular}{r|lll}\n  & Reading & Grammar & Speaking\\\\\n  & <dbl> & <dbl> & <dbl>\\\\\n\\hline\n\t1 & 66 & 78 & 55\\\\\n\t2 & 60 & 78 & 50\\\\\n\t3 & 53 & 69 & 59\\\\\n\t4 & 67 & 65 & 65\\\\\n\t5 & 65 & 63 & 48\\\\\n\t6 & 49 & 78 & 50\\\\\n\\end{tabular}\n",
            "text/plain": [
              "  Reading Grammar Speaking\n",
              "1 66      78      55      \n",
              "2 60      78      50      \n",
              "3 53      69      59      \n",
              "4 67      65      65      \n",
              "5 65      63      48      \n",
              "6 49      78      50      "
            ]
          },
          "metadata": {}
        },
        {
          "output_type": "display_data",
          "data": {
            "text/html": [
              "<table class=\"dataframe\">\n",
              "<caption>A data.frame: 6 × 3</caption>\n",
              "<thead>\n",
              "\t<tr><th></th><th scope=col>Reading</th><th scope=col>Grammar</th><th scope=col>Speaking</th></tr>\n",
              "\t<tr><th></th><th scope=col>&lt;dbl&gt;</th><th scope=col>&lt;dbl&gt;</th><th scope=col>&lt;dbl&gt;</th></tr>\n",
              "</thead>\n",
              "<tbody>\n",
              "\t<tr><th scope=row>95</th><td>61</td><td>53</td><td>57</td></tr>\n",
              "\t<tr><th scope=row>96</th><td>47</td><td>53</td><td>52</td></tr>\n",
              "\t<tr><th scope=row>97</th><td>60</td><td>80</td><td>62</td></tr>\n",
              "\t<tr><th scope=row>98</th><td>72</td><td>74</td><td>55</td></tr>\n",
              "\t<tr><th scope=row>99</th><td>64</td><td>54</td><td>58</td></tr>\n",
              "\t<tr><th scope=row>100</th><td>68</td><td>74</td><td>55</td></tr>\n",
              "</tbody>\n",
              "</table>\n"
            ],
            "text/markdown": "\nA data.frame: 6 × 3\n\n| <!--/--> | Reading &lt;dbl&gt; | Grammar &lt;dbl&gt; | Speaking &lt;dbl&gt; |\n|---|---|---|---|\n| 95 | 61 | 53 | 57 |\n| 96 | 47 | 53 | 52 |\n| 97 | 60 | 80 | 62 |\n| 98 | 72 | 74 | 55 |\n| 99 | 64 | 54 | 58 |\n| 100 | 68 | 74 | 55 |\n\n",
            "text/latex": "A data.frame: 6 × 3\n\\begin{tabular}{r|lll}\n  & Reading & Grammar & Speaking\\\\\n  & <dbl> & <dbl> & <dbl>\\\\\n\\hline\n\t95 & 61 & 53 & 57\\\\\n\t96 & 47 & 53 & 52\\\\\n\t97 & 60 & 80 & 62\\\\\n\t98 & 72 & 74 & 55\\\\\n\t99 & 64 & 54 & 58\\\\\n\t100 & 68 & 74 & 55\\\\\n\\end{tabular}\n",
            "text/plain": [
              "    Reading Grammar Speaking\n",
              "95  61      53      57      \n",
              "96  47      53      52      \n",
              "97  60      80      62      \n",
              "98  72      74      55      \n",
              "99  64      54      58      \n",
              "100 68      74      55      "
            ]
          },
          "metadata": {}
        }
      ]
    }
  ]
}