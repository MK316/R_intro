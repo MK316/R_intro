{
  "nbformat": 4,
  "nbformat_minor": 0,
  "metadata": {
    "colab": {
      "name": "R_BasicPlots.ipynb",
      "provenance": [],
      "authorship_tag": "ABX9TyOdO7/vlYaWC4PTE4YgvQHF",
      "include_colab_link": true
    },
    "kernelspec": {
      "name": "python3",
      "display_name": "Python 3"
    },
    "language_info": {
      "name": "python"
    }
  },
  "cells": [
    {
      "cell_type": "markdown",
      "metadata": {
        "id": "view-in-github",
        "colab_type": "text"
      },
      "source": [
        "<a href=\"https://colab.research.google.com/github/MK316/R_intro/blob/main/R_BasicPlots.ipynb\" target=\"_parent\"><img src=\"https://colab.research.google.com/assets/colab-badge.svg\" alt=\"Open In Colab\"/></a>"
      ]
    },
    {
      "cell_type": "markdown",
      "source": [
        "# Doing **R** in **Colab**\n",
        "## First load rpy2.ipython\n",
        "## Second Begin %%R in each cell"
      ],
      "metadata": {
        "id": "3VMo2OAyHnfU"
      }
    },
    {
      "cell_type": "code",
      "execution_count": 1,
      "metadata": {
        "id": "Lu_eULvhGLUE"
      },
      "outputs": [],
      "source": [
        "%load_ext rpy2.ipython"
      ]
    },
    {
      "cell_type": "code",
      "source": [
        "%%R\n",
        "install.packages(\"datasets\")"
      ],
      "metadata": {
        "colab": {
          "base_uri": "https://localhost:8080/"
        },
        "id": "N6EarsSQGUpj",
        "outputId": "267af66a-43a5-4c73-9411-f77febb0f7e0"
      },
      "execution_count": 11,
      "outputs": [
        {
          "output_type": "stream",
          "name": "stderr",
          "text": [
            "R[write to console]: Installing package into ‘/usr/local/lib/R/site-library’\n",
            "(as ‘lib’ is unspecified)\n",
            "\n"
          ]
        }
      ]
    },
    {
      "cell_type": "code",
      "source": [
        "%%R\n",
        "head(iris)"
      ],
      "metadata": {
        "id": "9hzMmyQiGsdZ"
      },
      "execution_count": null,
      "outputs": []
    },
    {
      "cell_type": "markdown",
      "source": [
        "# R Plot with iris data: plot( )"
      ],
      "metadata": {
        "id": "1rKvR86KJPSY"
      }
    },
    {
      "cell_type": "code",
      "source": [
        "%%R\n",
        "plot(iris$Species)  # Categorical variable"
      ],
      "metadata": {
        "id": "WUWEIfZ4ICph"
      },
      "execution_count": null,
      "outputs": []
    },
    {
      "cell_type": "code",
      "source": [
        "%%R\n",
        "plot(iris$Petal.Length)  # Quantitative variable"
      ],
      "metadata": {
        "id": "Q1DJxz4aJA9m"
      },
      "execution_count": null,
      "outputs": []
    },
    {
      "cell_type": "code",
      "source": [
        "%%R\n",
        "plot(iris$Species, iris$Petal.Width)  # Cat x quant"
      ],
      "metadata": {
        "id": "kU11iTr8JD3n"
      },
      "execution_count": null,
      "outputs": []
    },
    {
      "cell_type": "code",
      "source": [
        "%%R\n",
        "plot(iris$Petal.Length, iris$Petal.Width)  # Quant pair"
      ],
      "metadata": {
        "id": "X99HviMIJEoY"
      },
      "execution_count": null,
      "outputs": []
    },
    {
      "cell_type": "code",
      "source": [
        "%%R\n",
        "plot(iris)  # Entire data frame"
      ],
      "metadata": {
        "id": "T23UuulaJFSc"
      },
      "execution_count": null,
      "outputs": []
    },
    {
      "cell_type": "markdown",
      "source": [
        "# Plot with options"
      ],
      "metadata": {
        "id": "ZNHGooo5JY0q"
      }
    },
    {
      "cell_type": "code",
      "source": [
        "%%R\n",
        "plot(iris$Petal.Length, iris$Petal.Width,\n",
        "  col = \"#cc0002\",  # Hex code for datalab.cc red\n",
        "  pch = 19,         # Use solid circles for points\n",
        "  main = \"Iris: Petal Length vs. Petal Width\",\n",
        "  xlab = \"Petal Length\",\n",
        "  ylab = \"Petal Width\")"
      ],
      "metadata": {
        "id": "buHdwxOmJOVb"
      },
      "execution_count": null,
      "outputs": []
    },
    {
      "cell_type": "code",
      "source": [
        "%%R\n",
        "plot(sin, 0, 2*pi)"
      ],
      "metadata": {
        "id": "WQRF8IyxJvAt"
      },
      "execution_count": null,
      "outputs": []
    },
    {
      "cell_type": "code",
      "source": [
        "%%R\n",
        "plot(exp, 1, 5)"
      ],
      "metadata": {
        "id": "ZdGrDfDnJ6kA"
      },
      "execution_count": null,
      "outputs": []
    },
    {
      "cell_type": "code",
      "source": [
        "%%R\n",
        "plot(dnorm, -3, +3)"
      ],
      "metadata": {
        "id": "RhZ38JnGJ8lv"
      },
      "execution_count": null,
      "outputs": []
    },
    {
      "cell_type": "code",
      "source": [
        "%%R\n",
        "# Formula plot with options\n",
        "plot(dnorm, -3, +3,\n",
        "  col = \"#cc0000\",\n",
        "  lwd = 5,\n",
        "  main = \"Standard Normal Distribution\",\n",
        "  xlab = \"z-scores\",\n",
        "  ylab = \"Density\")"
      ],
      "metadata": {
        "id": "LA26LHNmKD9L"
      },
      "execution_count": null,
      "outputs": []
    },
    {
      "cell_type": "markdown",
      "source": [
        "# Scatter plot: "
      ],
      "metadata": {
        "id": "rL_JaTosKaLD"
      }
    },
    {
      "cell_type": "code",
      "source": [
        "%%R\n",
        "head(mtcars)\n"
      ],
      "metadata": {
        "colab": {
          "base_uri": "https://localhost:8080/"
        },
        "id": "-AinY93nKL2t",
        "outputId": "3cfbfaae-65ce-47b6-d933-4b75e2170cc1"
      },
      "execution_count": 34,
      "outputs": [
        {
          "output_type": "stream",
          "name": "stdout",
          "text": [
            "                   mpg cyl disp  hp drat    wt  qsec vs am gear carb\n",
            "Mazda RX4         21.0   6  160 110 3.90 2.620 16.46  0  1    4    4\n",
            "Mazda RX4 Wag     21.0   6  160 110 3.90 2.875 17.02  0  1    4    4\n",
            "Datsun 710        22.8   4  108  93 3.85 2.320 18.61  1  1    4    1\n",
            "Hornet 4 Drive    21.4   6  258 110 3.08 3.215 19.44  1  0    3    1\n",
            "Hornet Sportabout 18.7   8  360 175 3.15 3.440 17.02  0  0    3    2\n",
            "Valiant           18.1   6  225 105 2.76 3.460 20.22  1  0    3    1\n"
          ]
        }
      ]
    },
    {
      "cell_type": "code",
      "source": [
        "%%R\n",
        "# Good to first check univariate distributions\n",
        "par(mfrow=c(1,2))\n",
        "hist(mtcars$wt)\n",
        "hist(mtcars$mpg)"
      ],
      "metadata": {
        "id": "Rr_Jqyt3KjUN"
      },
      "execution_count": null,
      "outputs": []
    },
    {
      "cell_type": "code",
      "source": [
        "%%R\n",
        "# Basic X-Y plot for two quantitative variables\n",
        "plot(mtcars$wt, mtcars$mpg)"
      ],
      "metadata": {
        "id": "ShH8hAjCKuQ1"
      },
      "execution_count": null,
      "outputs": []
    },
    {
      "cell_type": "code",
      "source": [
        "%%R\n",
        "# Add some options\n",
        "plot(mtcars$wt, mtcars$mpg,\n",
        "  pch = 19,         # Solid circle\n",
        "  cex = 1.5,        # Make 150% size\n",
        "  col = \"#cc0000\",  # Red\n",
        "  main = \"MPG as a Function of Weight of Cars\",\n",
        "  xlab = \"Weight (in 1000 pounds)\",\n",
        "  ylab = \"MPG\")"
      ],
      "metadata": {
        "id": "qVPjlvr0K0ZV"
      },
      "execution_count": null,
      "outputs": []
    },
    {
      "cell_type": "markdown",
      "source": [
        "# Barplot: barplot( )"
      ],
      "metadata": {
        "id": "sjR3ExWOLFSU"
      }
    },
    {
      "cell_type": "code",
      "source": [
        "%%R\n",
        "?mtcars"
      ],
      "metadata": {
        "id": "_CKBYyjRK_dI"
      },
      "execution_count": null,
      "outputs": []
    },
    {
      "cell_type": "code",
      "source": [
        "%%R\n",
        "barplot(mtcars$cyl) \n",
        "# This isn't much informative"
      ],
      "metadata": {
        "id": "uxqA62YXLPif"
      },
      "execution_count": null,
      "outputs": []
    },
    {
      "cell_type": "code",
      "source": [
        "%%R\n",
        "# Need a table with frequencies for each category\n",
        "par(mfrow=c(1,2))\n",
        "cylinders <- table(mtcars$cyl)  # Create table\n",
        "barplot(cylinders)              # Bar chart\n",
        "plot(cylinders)                 # Default X-Y plot (lines)"
      ],
      "metadata": {
        "id": "5YX7EJxtLYNC"
      },
      "execution_count": null,
      "outputs": []
    },
    {
      "cell_type": "code",
      "source": [
        "%%R\n",
        "# Different color for each bar?\n",
        "library(RColorBrewer)\n",
        "coul <- brewer.pal(5, \"Set2\")\n",
        "\n",
        "# Below is without brewer\n",
        "cylinders <- table(mtcars$cyl)  # Create table\n",
        "barplot(cylinders, col=coul)              # Bar chart"
      ],
      "metadata": {
        "colab": {
          "base_uri": "https://localhost:8080/",
          "height": 497
        },
        "id": "tAnSE5qYL3Pc",
        "outputId": "417b55f6-befe-429b-9cc0-9e40eaf05930"
      },
      "execution_count": 58,
      "outputs": [
        {
          "output_type": "display_data",
          "data": {
            "image/png": "[encoded data removed]"
          },
          "metadata": {}
        }
      ]
    },
    {
      "cell_type": "markdown",
      "source": [
        "# Overlaying plot"
      ],
      "metadata": {
        "id": "9z0BcKOgNIBJ"
      }
    },
    {
      "cell_type": "code",
      "source": [
        "%%R\n",
        "# Data: ?lynx\n",
        "print(head(lynx))\n",
        "hist(lynx)"
      ],
      "metadata": {
        "id": "3U9jB_LLM-yc"
      },
      "execution_count": null,
      "outputs": []
    },
    {
      "cell_type": "code",
      "source": [
        "%%R\n",
        "# Add some options\n",
        "hist(lynx,\n",
        "     breaks = 14,          # \"Suggests\" 14 bins\n",
        "     freq   = FALSE,       # Axis shows density, not freq.\n",
        "     col    = \"thistle1\",  # Color for histogram\n",
        "     main   = paste(\"Histogram of Annual Canadian Lynx\",\n",
        "                    \"Trappings, 1821-1934\"),\n",
        "     xlab   = \"Number of Lynx Trapped\")"
      ],
      "metadata": {
        "id": "xsGd2IbONPsL"
      },
      "execution_count": null,
      "outputs": []
    },
    {
      "cell_type": "code",
      "source": [
        "%%R\n",
        "\n",
        "hist(lynx,\n",
        "     breaks = 14,          # \"Suggests\" 14 bins\n",
        "     freq   = FALSE,       # Axis shows density, not freq.\n",
        "     col    = \"thistle1\",  # Color for histogram\n",
        "     main   = paste(\"Histogram of Annual Canadian Lynx\",\n",
        "                    \"Trappings, 1821-1934\"),\n",
        "     xlab   = \"Number of Lynx Trapped\")\n",
        "\n",
        "# Add a normal distribution\n",
        "curve(dnorm(x, mean = mean(lynx), sd = sd(lynx)),\n",
        "      col = \"thistle4\",  # Color of curve\n",
        "      lwd = 2,           # Line width of 2 pixels\n",
        "      add = TRUE)        # Superimpose on previous graph\n",
        "\n",
        "# Add two kernel density estimators\n",
        "lines(density(lynx), col = \"blue\", lwd = 2)\n",
        "lines(density(lynx, adjust = 3), col = \"purple\", lwd = 2)\n",
        "\n",
        "# Add a rug plot\n",
        "rug(lynx, lwd = 2, col = \"gray\")"
      ],
      "metadata": {
        "colab": {
          "base_uri": "https://localhost:8080/",
          "height": 497
        },
        "id": "ODANCOMWNfOl",
        "outputId": "b34c464d-4f0c-4e62-f48a-1d51f944a28d"
      },
      "execution_count": 67,
      "outputs": [
        {
          "output_type": "display_data",
          "data": {
            "image/png": "[encoded data removed]"
          },
          "metadata": {}
        }
      ]
    },
    {
      "cell_type": "code",
      "source": [
        ""
      ],
      "metadata": {
        "id": "FYh2VnW9NzNs"
      },
      "execution_count": null,
      "outputs": []
    }
  ]
}