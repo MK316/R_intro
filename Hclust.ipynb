{
  "nbformat": 4,
  "nbformat_minor": 0,
  "metadata": {
    "colab": {
      "name": "Hclust.ipynb",
      "provenance": [],
      "authorship_tag": "ABX9TyOUTYHrCoB+hQaBDiAvthQg",
      "include_colab_link": true
    },
    "kernelspec": {
      "name": "python3",
      "display_name": "Python 3"
    },
    "language_info": {
      "name": "python"
    }
  },
  "cells": [
    {
      "cell_type": "markdown",
      "metadata": {
        "id": "view-in-github",
        "colab_type": "text"
      },
      "source": [
        "<a href=\"https://colab.research.google.com/github/MK316/R_intro/blob/main/Hclust.ipynb\" target=\"_parent\"><img src=\"https://colab.research.google.com/assets/colab-badge.svg\" alt=\"Open In Colab\"/></a>"
      ]
    },
    {
      "cell_type": "markdown",
      "source": [
        "# Hierarchical Clustering in R"
      ],
      "metadata": {
        "id": "2Ko7OJ0afw5l"
      }
    },
    {
      "cell_type": "code",
      "execution_count": 2,
      "metadata": {
        "id": "6hTr2zJafsqy"
      },
      "outputs": [],
      "source": [
        "%load_ext rpy2.ipython"
      ]
    },
    {
      "cell_type": "code",
      "source": [
        "%%R\n",
        "install.packages(\"datasets\")\n",
        "install.packages(\"tidyverse\")\n",
        "install.packages(\"pacman\")\n",
        "install.packages(\"dplyr\")"
      ],
      "metadata": {
        "id": "Fx4fx4h_gRT6"
      },
      "execution_count": null,
      "outputs": []
    },
    {
      "cell_type": "code",
      "source": [
        "import matplotlib.pyplot as plt"
      ],
      "metadata": {
        "id": "CBz0oO9OkcYD"
      },
      "execution_count": 32,
      "outputs": []
    },
    {
      "cell_type": "code",
      "source": [
        "from IPython.core.display import display_markdown\n",
        "%%R\n",
        "pacman::p_load(pacman,tidyverse,dplyr)"
      ],
      "metadata": {
        "id": "9EYzSeS9iuTO"
      },
      "execution_count": 25,
      "outputs": []
    },
    {
      "cell_type": "code",
      "source": [
        "%%R\n",
        "print(head(mtcars))\n",
        "# Select variables\n",
        "cars <- mtcars[, c(1:4, 6:7, 9:11)]  \n",
        "head(cars)"
      ],
      "metadata": {
        "colab": {
          "base_uri": "https://localhost:8080/"
        },
        "id": "X2WE34dEgbPi",
        "outputId": "3a1c0730-25c8-4717-fbcf-9e7f52b80941"
      },
      "execution_count": 26,
      "outputs": [
        {
          "output_type": "stream",
          "name": "stdout",
          "text": [
            "                   mpg cyl disp  hp drat    wt  qsec vs am gear carb\n",
            "Mazda RX4         21.0   6  160 110 3.90 2.620 16.46  0  1    4    4\n",
            "Mazda RX4 Wag     21.0   6  160 110 3.90 2.875 17.02  0  1    4    4\n",
            "Datsun 710        22.8   4  108  93 3.85 2.320 18.61  1  1    4    1\n",
            "Hornet 4 Drive    21.4   6  258 110 3.08 3.215 19.44  1  0    3    1\n",
            "Hornet Sportabout 18.7   8  360 175 3.15 3.440 17.02  0  0    3    2\n",
            "Valiant           18.1   6  225 105 2.76 3.460 20.22  1  0    3    1\n",
            "                   mpg cyl disp  hp    wt  qsec am gear carb\n",
            "Mazda RX4         21.0   6  160 110 2.620 16.46  1    4    4\n",
            "Mazda RX4 Wag     21.0   6  160 110 2.875 17.02  1    4    4\n",
            "Datsun 710        22.8   4  108  93 2.320 18.61  1    4    1\n",
            "Hornet 4 Drive    21.4   6  258 110 3.215 19.44  0    3    1\n",
            "Hornet Sportabout 18.7   8  360 175 3.440 17.02  0    3    2\n",
            "Valiant           18.1   6  225 105 3.460 20.22  0    3    1\n"
          ]
        }
      ]
    },
    {
      "cell_type": "code",
      "source": [
        "# Python and colab doesn't match\n",
        "# plt.rcParams['figure.figsize'] = [10, 5]"
      ],
      "metadata": {
        "id": "miGgarqdky63"
      },
      "execution_count": 38,
      "outputs": []
    },
    {
      "cell_type": "code",
      "source": [
        "%%R\n",
        "\n",
        "# Save hierarchical clustering to \"hc.\" This codes uses pipes from dplyr.\n",
        "hc <- cars   %>%  # (data)Get cars data\n",
        "      dist   %>%  # dist function: Compute distance/dissimilarity matrix\n",
        "      hclust      # hclust: Computer hierarchical clusters\n",
        "  \n",
        "# To make the plot bigger and save as a pdf\n",
        "# dev.new(width=10,height=8,noRStudioGD = TRUE)\n",
        "\n",
        "plot(hc)          # Plot dendrogram\n",
        "\n",
        "# ADD BOXES TO PLOT ########################################\n",
        "\n",
        "rect.hclust(hc, k = 2, border = \"gray\")\n",
        "rect.hclust(hc, k = 3, border = \"blue\")\n",
        "rect.hclust(hc, k = 4, border = \"green4\")\n",
        "rect.hclust(hc, k = 5, border = \"darkred\")"
      ],
      "metadata": {
        "id": "E47NQRuJhoi2"
      },
      "execution_count": null,
      "outputs": []
    },
    {
      "cell_type": "code",
      "source": [
        "%%R\n",
        "# To make the plot bigger and save as a pdf\n",
        "dev.new(width=10,height=8,noRStudioGD = TRUE)\n",
        "\n",
        "# Save hierarchical clustering to \"hc.\" This codes uses pipes from dplyr.\n",
        "hc <- cars   %>%  # (data)Get cars data\n",
        "      dist   %>%  # dist function: Compute distance/dissimilarity matrix\n",
        "      hclust      # hclust: Computer hierarchical clusters\n",
        "plot(hc)          # Plot dendrogram\n",
        "\n",
        "# ADD BOXES TO PLOT ########################################\n",
        "\n",
        "rect.hclust(hc, k = 2, border = \"gray\")\n",
        "rect.hclust(hc, k = 3, border = \"blue\")\n",
        "rect.hclust(hc, k = 4, border = \"green4\")\n",
        "rect.hclust(hc, k = 5, border = \"darkred\")"
      ],
      "metadata": {
        "colab": {
          "base_uri": "https://localhost:8080/"
        },
        "id": "UXciR30floNz",
        "outputId": "8c90c5b3-ee17-4401-dbbe-f42c349271c5"
      },
      "execution_count": 45,
      "outputs": [
        {
          "output_type": "stream",
          "name": "stderr",
          "text": [
            "R[write to console]: dev.new(): using pdf(file=\"Rplots3.pdf\")\n",
            "\n"
          ]
        }
      ]
    }
  ]
}