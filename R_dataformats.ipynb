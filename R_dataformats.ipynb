{
  "nbformat": 4,
  "nbformat_minor": 0,
  "metadata": {
    "colab": {
      "name": "R_dataformats.ipynb",
      "provenance": [],
      "authorship_tag": "ABX9TyOucJYuXHj9J7jdiLV7l3+r",
      "include_colab_link": true
    },
    "kernelspec": {
      "name": "python3",
      "display_name": "Python 3"
    },
    "language_info": {
      "name": "python"
    }
  },
  "cells": [
    {
      "cell_type": "markdown",
      "metadata": {
        "id": "view-in-github",
        "colab_type": "text"
      },
      "source": [
        "<a href=\"https://colab.research.google.com/github/MK316/R_intro/blob/main/R_dataformats.ipynb\" target=\"_parent\"><img src=\"https://colab.research.google.com/assets/colab-badge.svg\" alt=\"Open In Colab\"/></a>"
      ]
    },
    {
      "cell_type": "markdown",
      "source": [
        "# R data formats\n",
        "*Keywords: Numeric, Characters, Logical"
      ],
      "metadata": {
        "id": "N3FfDMx1ZPpS"
      }
    },
    {
      "cell_type": "code",
      "execution_count": 1,
      "metadata": {
        "id": "poEEbRFQZNVU"
      },
      "outputs": [],
      "source": [
        "%load_ext rpy2.ipython"
      ]
    },
    {
      "cell_type": "code",
      "source": [
        "%%R\n",
        "# Numeric: double precision by default\n",
        "n1 <- 15; n1; print(typeof(n1))\n",
        "n2 <-1.5; n2; print(typeof(n2))"
      ],
      "metadata": {
        "colab": {
          "base_uri": "https://localhost:8080/"
        },
        "id": "SVlEKWBeZezw",
        "outputId": "540f523b-c544-4ba8-d6da-c1f3891470f3"
      },
      "execution_count": 4,
      "outputs": [
        {
          "output_type": "stream",
          "name": "stdout",
          "text": [
            "[1] \"double\"\n",
            "[1] \"double\"\n"
          ]
        }
      ]
    },
    {
      "cell_type": "code",
      "source": [
        "%%R\n",
        "# Characters\n",
        "c1 <- \"a string of text\"; c1; typeof(c1)"
      ],
      "metadata": {
        "colab": {
          "base_uri": "https://localhost:8080/"
        },
        "id": "HZlyM68UZoWG",
        "outputId": "fc32e546-3d61-4723-d8eb-c483dab467e9"
      },
      "execution_count": 6,
      "outputs": [
        {
          "output_type": "stream",
          "name": "stdout",
          "text": [
            "[1] \"a string of text\"\n"
          ]
        }
      ]
    },
    {
      "cell_type": "code",
      "source": [
        "%%R\n",
        "# Logical\n",
        "L1<-TRUE\n",
        "L1\n",
        "typeof(L1)"
      ],
      "metadata": {
        "colab": {
          "base_uri": "https://localhost:8080/"
        },
        "id": "R9KRp529Z6T6",
        "outputId": "fdbaeb3f-845b-4989-e054-2f49d6e5daa9"
      },
      "execution_count": 8,
      "outputs": [
        {
          "output_type": "stream",
          "name": "stdout",
          "text": [
            "[1] \"logical\"\n"
          ]
        }
      ]
    },
    {
      "cell_type": "markdown",
      "source": [
        "# Data structure:\n",
        "* vector, matrix, array, list, "
      ],
      "metadata": {
        "id": "CfV_HqdbaKOx"
      }
    },
    {
      "cell_type": "code",
      "source": [
        "%%R\n",
        "# Vector\n",
        "c1<-c(1,2,3,4,5); c1\n",
        "is.vector(c1)"
      ],
      "metadata": {
        "colab": {
          "base_uri": "https://localhost:8080/"
        },
        "id": "bU-EGHvkaI3O",
        "outputId": "29b390a2-cca9-4fa5-88ec-b138b5c27e8b"
      },
      "execution_count": 12,
      "outputs": [
        {
          "output_type": "stream",
          "name": "stdout",
          "text": [
            "[1] TRUE\n"
          ]
        }
      ]
    },
    {
      "cell_type": "code",
      "source": [
        "%%R\n",
        "# Matrix\n",
        "m1 <- matrix(c(T, T, F, F, T, F), nrow = 2); print(m1)\n",
        "m2 <- matrix(c(\"a\", \"b\", \"c\", \"d\"), nrow = 2, byrow = T); print(m2)"
      ],
      "metadata": {
        "colab": {
          "base_uri": "https://localhost:8080/"
        },
        "id": "Qc2GylS7aUlv",
        "outputId": "9c1a2ca7-89d7-43c9-9b95-66b14cbc2119"
      },
      "execution_count": 14,
      "outputs": [
        {
          "output_type": "stream",
          "name": "stdout",
          "text": [
            "     [,1]  [,2]  [,3]\n",
            "[1,] TRUE FALSE  TRUE\n",
            "[2,] TRUE FALSE FALSE\n",
            "     [,1] [,2]\n",
            "[1,] \"a\"  \"b\" \n",
            "[2,] \"c\"  \"d\" \n"
          ]
        }
      ]
    },
    {
      "cell_type": "code",
      "source": [
        "%%R\n",
        "# Array(rows, cols, tables)\n",
        "a1<-array(c( 1:24), c(4, 3, 2)); print(a1)"
      ],
      "metadata": {
        "id": "03xQoBLJas9Q"
      },
      "execution_count": null,
      "outputs": []
    },
    {
      "cell_type": "code",
      "source": [
        "%%R\n",
        "# Data frame can combine vectors of the same length\n",
        "\n",
        "vNumeric   <- c(1, 2, 3)\n",
        "vCharacter <- c(\"a\", \"b\", \"c\")\n",
        "vLogical   <- c(T, F, T)\n",
        "\n",
        "dfa <- cbind(vNumeric, vCharacter, vLogical)\n",
        "dfa  # Matrix of one data type\n"
      ],
      "metadata": {
        "colab": {
          "base_uri": "https://localhost:8080/"
        },
        "id": "pG9xIPbXa5_H",
        "outputId": "5b6846ce-45d4-462a-e713-d34eac2ac971"
      },
      "execution_count": 16,
      "outputs": [
        {
          "output_type": "stream",
          "name": "stdout",
          "text": [
            "     vNumeric vCharacter vLogical\n",
            "[1,] \"1\"      \"a\"        \"TRUE\"  \n",
            "[2,] \"2\"      \"b\"        \"FALSE\" \n",
            "[3,] \"3\"      \"c\"        \"TRUE\"  \n"
          ]
        }
      ]
    },
    {
      "cell_type": "code",
      "source": [
        "%%R\n",
        "df <- as.data.frame(cbind(vNumeric, vCharacter, vLogical))\n",
        "df  # Makes a data frame with three different data types"
      ],
      "metadata": {
        "colab": {
          "base_uri": "https://localhost:8080/"
        },
        "id": "rSV8H_bjbDW8",
        "outputId": "6a254b70-fe7f-46a1-a9dd-32edbed9ec91"
      },
      "execution_count": 18,
      "outputs": [
        {
          "output_type": "stream",
          "name": "stdout",
          "text": [
            "  vNumeric vCharacter vLogical\n",
            "1        1          a     TRUE\n",
            "2        2          b    FALSE\n",
            "3        3          c     TRUE\n"
          ]
        }
      ]
    },
    {
      "cell_type": "code",
      "source": [
        "%%R\n",
        "# List\n",
        "\n",
        "o1 <- c(1, 2, 3)\n",
        "o2 <- c(\"a\", \"b\", \"c\", \"d\")\n",
        "o3 <- c(T, F, T, T, F)\n",
        "\n",
        "list1 <- list(o1, o2, o3)\n",
        "list1\n",
        "\n",
        "list2 <- list(o1, o2, o3, list1)  # Lists within lists!\n",
        "list2\n"
      ],
      "metadata": {
        "colab": {
          "base_uri": "https://localhost:8080/"
        },
        "id": "hTkUr0oibJaz",
        "outputId": "5ad8d6d1-8d83-4af4-dd68-cc9ad8b40424"
      },
      "execution_count": 19,
      "outputs": [
        {
          "output_type": "stream",
          "name": "stdout",
          "text": [
            "[[1]]\n",
            "[1] 1 2 3\n",
            "\n",
            "[[2]]\n",
            "[1] \"a\" \"b\" \"c\" \"d\"\n",
            "\n",
            "[[3]]\n",
            "[1]  TRUE FALSE  TRUE  TRUE FALSE\n",
            "\n",
            "[[4]]\n",
            "[[4]][[1]]\n",
            "[1] 1 2 3\n",
            "\n",
            "[[4]][[2]]\n",
            "[1] \"a\" \"b\" \"c\" \"d\"\n",
            "\n",
            "[[4]][[3]]\n",
            "[1]  TRUE FALSE  TRUE  TRUE FALSE\n",
            "\n",
            "\n"
          ]
        }
      ]
    },
    {
      "cell_type": "markdown",
      "source": [
        "# Coersion: \n",
        "\n",
        "\n",
        "```\n",
        "# as.numeric(), as.integer(), as.character(), as.matrix(), as.data.frame()\n",
        "```\n",
        "\n"
      ],
      "metadata": {
        "id": "n05O6Jc8bVCY"
      }
    },
    {
      "cell_type": "code",
      "source": [
        "%%R\n",
        "d1 <- matrix(1:9, nrow=3)\n",
        "d2 <- as.data.frame(d1); print(head(d2))\n",
        "is.data.frame(d2)"
      ],
      "metadata": {
        "colab": {
          "base_uri": "https://localhost:8080/"
        },
        "id": "tp_0ZpzcbPgN",
        "outputId": "b5b459a8-adfb-41c7-ebcd-2fc104e3cf6c"
      },
      "execution_count": 21,
      "outputs": [
        {
          "output_type": "stream",
          "name": "stdout",
          "text": [
            "  V1 V2 V3\n",
            "1  1  4  7\n",
            "2  2  5  8\n",
            "3  3  6  9\n",
            "[1] TRUE\n"
          ]
        }
      ]
    },
    {
      "cell_type": "code",
      "source": [
        "%%R"
      ],
      "metadata": {
        "colab": {
          "base_uri": "https://localhost:8080/"
        },
        "id": "DI-RP9RhcF57",
        "outputId": "994e7362-390f-49af-f9a4-b82072d1c6ee"
      },
      "execution_count": 22,
      "outputs": [
        {
          "output_type": "stream",
          "name": "stderr",
          "text": [
            "UsageError: %%R is a cell magic, but the cell body is empty. Did you mean the line magic %R (single %)?\n"
          ]
        }
      ]
    },
    {
      "cell_type": "code",
      "source": [
        "%%R\n",
        "a1 <-1:3; y <-1:9\n",
        "\n",
        "df1 <- cbind.data.frame(a1,y)\n",
        "str(df1)"
      ],
      "metadata": {
        "colab": {
          "base_uri": "https://localhost:8080/"
        },
        "id": "ZEC2srAscYGq",
        "outputId": "efdc5f64-0965-4833-db8c-11cf5ca4fd1d"
      },
      "execution_count": 25,
      "outputs": [
        {
          "output_type": "stream",
          "name": "stdout",
          "text": [
            "'data.frame':\t9 obs. of  2 variables:\n",
            " $ a1: int  1 2 3 1 2 3 1 2 3\n",
            " $ y : int  1 2 3 4 5 6 7 8 9\n"
          ]
        }
      ]
    },
    {
      "cell_type": "code",
      "source": [
        "%%R\n",
        "a2 <- as.factor(c(1:3)); y <- 1:9\n",
        "df2 <- cbind.data.frame(a2,y); df2\n",
        "str(df2)"
      ],
      "metadata": {
        "colab": {
          "base_uri": "https://localhost:8080/"
        },
        "id": "g23vMWbwc0QP",
        "outputId": "b723df55-1b87-42f5-a8aa-931398166c28"
      },
      "execution_count": 27,
      "outputs": [
        {
          "output_type": "stream",
          "name": "stdout",
          "text": [
            "'data.frame':\t9 obs. of  2 variables:\n",
            " $ a2: Factor w/ 3 levels \"1\",\"2\",\"3\": 1 2 3 1 2 3 1 2 3\n",
            " $ y : int  1 2 3 4 5 6 7 8 9\n"
          ]
        }
      ]
    },
    {
      "cell_type": "code",
      "source": [
        "%%R\n",
        "a3 <- c(1:3); y <-1:9\n",
        "df3 <- cbind.data.frame(a3,y)\n",
        "df3$a3 <- factor(df3$a3, levels=c(1,2,3), labels = c(\"macOS\",\"Windows\",\"Linux\")); print(df3)\n",
        "str(df3)"
      ],
      "metadata": {
        "colab": {
          "base_uri": "https://localhost:8080/"
        },
        "id": "gdqJ5CxTdFa2",
        "outputId": "7fd69ee4-d480-41ab-87bf-cf62f685cc57"
      },
      "execution_count": 35,
      "outputs": [
        {
          "output_type": "stream",
          "name": "stdout",
          "text": [
            "       a3 y\n",
            "1   macOS 1\n",
            "2 Windows 2\n",
            "3   Linux 3\n",
            "4   macOS 4\n",
            "5 Windows 5\n",
            "6   Linux 6\n",
            "7   macOS 7\n",
            "8 Windows 8\n",
            "9   Linux 9\n",
            "'data.frame':\t9 obs. of  2 variables:\n",
            " $ a3: Factor w/ 3 levels \"macOS\",\"Windows\",..: 1 2 3 1 2 3 1 2 3\n",
            " $ y : int  1 2 3 4 5 6 7 8 9\n"
          ]
        }
      ]
    },
    {
      "cell_type": "code",
      "source": [
        "%%R\n",
        "# Column name change\n",
        "colnames(df3) <- c(\"System\",\"Room\")\n",
        "df3"
      ],
      "metadata": {
        "colab": {
          "base_uri": "https://localhost:8080/"
        },
        "id": "Lkrb9ioWeNx9",
        "outputId": "f091686c-7af9-46db-cf60-78d8b69687ce"
      },
      "execution_count": 39,
      "outputs": [
        {
          "output_type": "stream",
          "name": "stdout",
          "text": [
            "   System Room\n",
            "1   macOS    1\n",
            "2 Windows    2\n",
            "3   Linux    3\n",
            "4   macOS    4\n",
            "5 Windows    5\n",
            "6   Linux    6\n",
            "7   macOS    7\n",
            "8 Windows    8\n",
            "9   Linux    9\n"
          ]
        }
      ]
    },
    {
      "cell_type": "code",
      "source": [
        "%%R\n",
        "# Ordered factors and labels: ordered levels(3,2,1), labels (No, Maybe, Yes)\n",
        "# 1st row, 1 => 2nd (2, Maybe), 2nd row, 2 => 3rd (Yes) in the order\n",
        "a5 <- c(1:3)\n",
        "df5 <- cbind.data.frame(a5,y)\n",
        "df5; str(df5)\n",
        "\n",
        "df5$a5 <-ordered(df5$a5, levels = c(3,1,2))\n",
        "df5; str(df5)\n",
        "\n",
        "df5$a5 <-ordered(df5$a5,\n",
        "                 levels = c(3,1,2),\n",
        "                 labels = c(\"No\",\"Maybe\",\"Yes\"))\n",
        "df5; str(df5)"
      ],
      "metadata": {
        "colab": {
          "base_uri": "https://localhost:8080/"
        },
        "id": "DU7BNjRUeaIM",
        "outputId": "1a83c4d2-973a-4c74-b543-a9688193720b"
      },
      "execution_count": 43,
      "outputs": [
        {
          "output_type": "stream",
          "name": "stdout",
          "text": [
            "'data.frame':\t9 obs. of  2 variables:\n",
            " $ a5: int  1 2 3 1 2 3 1 2 3\n",
            " $ y : int  1 2 3 4 5 6 7 8 9\n",
            "'data.frame':\t9 obs. of  2 variables:\n",
            " $ a5: Ord.factor w/ 3 levels \"3\"<\"1\"<\"2\": 2 3 1 2 3 1 2 3 1\n",
            " $ y : int  1 2 3 4 5 6 7 8 9\n",
            "'data.frame':\t9 obs. of  2 variables:\n",
            " $ a5: Ord.factor w/ 3 levels \"No\"<\"Maybe\"<\"Yes\": 2 3 1 2 3 1 2 3 1\n",
            " $ y : int  1 2 3 4 5 6 7 8 9\n"
          ]
        }
      ]
    },
    {
      "cell_type": "code",
      "source": [
        "%%R\n",
        "rm(list=ls())"
      ],
      "metadata": {
        "id": "U2-9PwH9fW6z"
      },
      "execution_count": 44,
      "outputs": []
    }
  ]
}