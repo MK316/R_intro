{
  "nbformat": 4,
  "nbformat_minor": 0,
  "metadata": {
    "colab": {
      "name": "R_import_data_Rio.ipynb",
      "provenance": [],
      "authorship_tag": "ABX9TyNNdiIcNZMxivVfUk/JK4JX",
      "include_colab_link": true
    },
    "kernelspec": {
      "name": "python3",
      "display_name": "Python 3"
    },
    "language_info": {
      "name": "python"
    }
  },
  "cells": [
    {
      "cell_type": "markdown",
      "metadata": {
        "id": "view-in-github",
        "colab_type": "text"
      },
      "source": [
        "<a href=\"https://colab.research.google.com/github/MK316/R_intro/blob/main/R_import_data_Rio.ipynb\" target=\"_parent\"><img src=\"https://colab.research.google.com/assets/colab-badge.svg\" alt=\"Open In Colab\"/></a>"
      ]
    },
    {
      "cell_type": "markdown",
      "source": [
        "# **Importing files** (e.g., csv, text) in R\n",
        "* First, load rpy2.ipython: %load_ext rpy2.ipython\n",
        "* Second, Begin with %%R in each cell"
      ],
      "metadata": {
        "id": "3VMo2OAyHnfU"
      }
    },
    {
      "cell_type": "code",
      "execution_count": 68,
      "metadata": {
        "colab": {
          "base_uri": "https://localhost:8080/"
        },
        "id": "Lu_eULvhGLUE",
        "outputId": "d865f445-fe21-42b1-b894-b30ed412b767"
      },
      "outputs": [
        {
          "output_type": "stream",
          "name": "stdout",
          "text": [
            "The rpy2.ipython extension is already loaded. To reload it, use:\n",
            "  %reload_ext rpy2.ipython\n"
          ]
        }
      ],
      "source": [
        "%load_ext rpy2.ipython"
      ]
    },
    {
      "cell_type": "code",
      "source": [
        "%%R\n",
        "install.packages(\"datasets\")\n"
      ],
      "metadata": {
        "id": "N6EarsSQGUpj"
      },
      "execution_count": null,
      "outputs": []
    },
    {
      "cell_type": "code",
      "source": [
        "%%R\n",
        "r_txt1 <- read.table(\"https://raw.githubusercontent.com/MK316/R_intro/main/data/DoveAndAnt.txt\", header = F)\n",
        "r_txt1"
      ],
      "metadata": {
        "id": "X99HviMIJEoY"
      },
      "execution_count": null,
      "outputs": []
    },
    {
      "cell_type": "code",
      "source": [
        "%%R\n",
        "trends.csv <- read.csv(\"https://raw.githubusercontent.com/MK316/R_intro/main/data/mbb.csv\", header = TRUE)\n",
        "head(trends.csv)"
      ],
      "metadata": {
        "colab": {
          "base_uri": "https://localhost:8080/"
        },
        "id": "T23UuulaJFSc",
        "outputId": "c6571cb9-189e-4c2d-9a61-22eb8cefd9a6"
      },
      "execution_count": 93,
      "outputs": [
        {
          "output_type": "stream",
          "name": "stdout",
          "text": [
            "    Month Mozart Beethoven Bach\n",
            "1 2004-01     12         8   15\n",
            "2 2004-02     12         9   15\n",
            "3 2004-03     12         9   14\n",
            "4 2004-04     12         8   14\n",
            "5 2004-05     11         9   13\n",
            "6 2004-06      9         7   12\n"
          ]
        }
      ]
    },
    {
      "cell_type": "markdown",
      "source": [
        "browseURL(\"http://j.mp/2aFZUrJ\") - This doesn't work on Colab; Opening a webpage from R"
      ],
      "metadata": {
        "id": "D6qA5xcuVeOd"
      }
    },
    {
      "cell_type": "markdown",
      "source": [
        "# Importing files with Rio"
      ],
      "metadata": {
        "id": "1rKvR86KJPSY"
      }
    },
    {
      "cell_type": "code",
      "source": [
        "%%R\n",
        "install.packages(\"pacman\")\n",
        "pacman::p_load(packman,rio)"
      ],
      "metadata": {
        "id": "ITrEnhI_VHEy"
      },
      "execution_count": null,
      "outputs": []
    },
    {
      "cell_type": "code",
      "source": [
        "%%R\n",
        "rio_csv <- import(\"https://raw.githubusercontent.com/MK316/R_intro/main/data/mbb.csv\")\n",
        "head(rio_csv)"
      ],
      "metadata": {
        "id": "WUWEIfZ4ICph"
      },
      "execution_count": null,
      "outputs": []
    },
    {
      "cell_type": "code",
      "source": [
        "%%R\n",
        "rio_txt <- import(\"https://raw.githubusercontent.com/MK316/R_intro/main/data/DoveAndAnt.txt\",sep=\".\")\n",
        "rio_txt"
      ],
      "metadata": {
        "id": "Q1DJxz4aJA9m"
      },
      "execution_count": null,
      "outputs": []
    },
    {
      "cell_type": "code",
      "source": [
        "# %%R (This doesn't work in colab)\n",
        "# View(rio_csv)"
      ],
      "metadata": {
        "id": "kU11iTr8JD3n"
      },
      "execution_count": 89,
      "outputs": []
    }
  ]
}